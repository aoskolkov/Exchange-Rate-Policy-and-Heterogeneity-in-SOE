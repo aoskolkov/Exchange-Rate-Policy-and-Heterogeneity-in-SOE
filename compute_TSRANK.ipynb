{
 "cells": [
  {
   "cell_type": "code",
   "execution_count": 1,
   "id": "f6fd90d5-2e47-49b8-910f-c9c4b19e6e1a",
   "metadata": {},
   "outputs": [],
   "source": [
    "using Compat, Random, Distributions, Plots, LinearAlgebra, Statistics, LaTeXStrings, SparseArrays, CPUTime, JLD2\n",
    "using SpecialFunctions, GSL, SuiteSparse, Distributed, Roots\n",
    "gr(fmt=:png)\n",
    "e = 2.7182818284\n",
    "Random.seed!(1);"
   ]
  },
  {
   "cell_type": "code",
   "execution_count": 2,
   "id": "7414f3d0-7952-4ab7-ad28-2816d9d60542",
   "metadata": {},
   "outputs": [
    {
     "data": {
      "text/plain": [
       "3-element Vector{Int64}:\n",
       " 1\n",
       " 2\n",
       " 3"
      ]
     },
     "execution_count": 2,
     "metadata": {},
     "output_type": "execute_result"
    }
   ],
   "source": [
    "addprocs(2)\n",
    "@everywhere using Compat, Random, Distributions, Plots, LinearAlgebra, Statistics, LaTeXStrings, SparseArrays, CPUTime, JLD2, SpecialFunctions, GSL, SuiteSparse, Distributed\n",
    "@everywhere using SharedArrays, ParallelDataTransfer, Roots, NBInclude\n",
    "@everywhere @nbinclude(\"setup.ipynb\")\n",
    "@everywhere using .setup, .functions\n",
    "procs()"
   ]
  },
  {
   "cell_type": "code",
   "execution_count": 14,
   "id": "4ecfe9f3-fb66-46d6-b839-ddd0b08e67e1",
   "metadata": {},
   "outputs": [
    {
     "name": "stdout",
     "output_type": "stream",
     "text": [
      "\n",
      "total sales: 0.19642 = 0.15888 (consumption) + 0.03754 (gov. expenditures);\n",
      "sales of tradables: 0.10626; sales of non-tradables: 0.09016; trade balance: 0.00087;\n",
      "sales of imports: 0.04135; sales of domestic tradables: 0.06491; exports: 0.04222;\n",
      "debt: 0.46086; debt to GDP: 19.466%\n",
      "\n",
      "verify that ζ, α, and η are set correctly:\n",
      "error on ζ: 0.0, error on η: 0.0, error on α: 0.0"
     ]
    }
   ],
   "source": [
    "# load parameters\n",
    "@load \"steady_state_output.jld2\"\n",
    "@load \"external_parameters.jld2\"\n",
    "\n",
    "# set up the time grid\n",
    "T = 600\n",
    "dt = T/1200\n",
    "time_grid = collect(0:dt:T)\n",
    "L = length(time_grid)\n",
    "t_grid = dt, L;\n",
    "\n",
    "# calibrate the two-sector RANK model\n",
    "aN = distr_N'*par_grid.assets\n",
    "aT = distr_T'*par_grid.assets\n",
    "par.ρ = deepcopy(par.r_d)\n",
    "\n",
    "labor = mean(par_grid.labor)\n",
    "labor_T = find_zero(x->par.χ1*x^(1/par.χ2)*(par.r_d*aT+labor*(1-par.τ_w)*x)^par.σ-(1-par.τ_w),[1e-5,25.0])\n",
    "labor_T = prod_T*labor_T*labor\n",
    "consumption_T = par.r_d*aT+labor_T*(1-par.τ_w)\n",
    "labor_N = find_zero(x->par.χ1*x^(1/par.χ2)*(par.r_d*aN+prod_N*labor*(1-par.τ_w)*x)^par.σ-(1-par.τ_w),[1e-5,25.0])\n",
    "labor_N = prod_N*labor_N*labor\n",
    "consumption_N = par.r_d*aN+labor_N*(1-par.τ_w)\n",
    "\n",
    "par.ζ_N = NT_to_GDP*labor_T/(NT_to_GDP*labor_T + (1-NT_to_GDP)*labor_N)\n",
    "par.ζ_T = 1 - par.ζ_N\n",
    "a = aT * par.ζ_T + aN * par.ζ_N\n",
    "\n",
    "GDP = labor_T * par.ζ_T + labor_N * par.ζ_N\n",
    "consumption = consumption_T * par.ζ_T + consumption_N * par.ζ_N\n",
    "assets_to_gdp = a/12/GDP\n",
    "q_dom = labor_T * par.ζ_T\n",
    "foreign_share = foreign_to_gdp/(foreign_to_gdp+assets_to_gdp)\n",
    "trade_balance = par.r_d*foreign_to_gdp*12*GDP\n",
    "par.η = 1 - NT_to_GDP/(1-trade_balance/GDP)\n",
    "par.α = (1-NT_to_GDP-export_share)/(1-trade_balance/GDP)/par.η\n",
    "q_total = GDP-trade_balance\n",
    "q_F = GDP*export_share-trade_balance\n",
    "q_N = NT_to_GDP*GDP\n",
    "q_T = par.η*q_total\n",
    "q_H = par.α/(1-par.α)*q_F\n",
    "q_E = GDP*export_share\n",
    "debt = assets_to_gdp/(1-foreign_share)*12*GDP\n",
    "debt_to_gdp = debt/GDP/12\n",
    "interest_payments = par.r_d*debt\n",
    "G = par.τ_w*GDP - interest_payments\n",
    "\n",
    "print(\"\\ntotal sales: \",round(q_total,digits=5),\" = \",round(consumption,digits=5),\" (consumption) + \",round(G,digits=5),\" (gov. expenditures);\\n\")\n",
    "print(\"sales of tradables: \",round(q_T,digits=5),\"; sales of non-tradables: \",round(q_N,digits=5),\"; trade balance: \",round(par.r_d*foreign_to_gdp*12*GDP,digits=5),\";\\n\")\n",
    "print(\"sales of imports: \",round(q_F,digits=5),\"; sales of domestic tradables: \",round(q_H,digits=5),\"; exports: \",round(q_E,digits=5),\";\\n\")\n",
    "print(\"debt: \",round(debt,digits=5),\"; debt to GDP: \",round(100*debt/GDP/12,digits=3),\"%\\n\\n\")\n",
    "\n",
    "print(\"verify that ζ, α, and η are set correctly:\\n\")\n",
    "print(\"error on ζ: \",par.ζ_N - NT_to_GDP*labor_T/(NT_to_GDP*labor_T + (1-NT_to_GDP)*labor_N),\", \")\n",
    "print(\"error on η: \",par.η - (1 - NT_to_GDP/(1-trade_balance/GDP)),\", \")\n",
    "print(\"error on α: \",par.α - (1-NT_to_GDP-export_share)/(1-trade_balance/GDP)/par.η)\n",
    "\n",
    "prod_shifters = prod_N, prod_T\n",
    "ss_objects = q_N, q_F, q_H, q_E, q_T, q_total, G, consumption, debt, labor_T, labor_N, consumption_T, consumption_N, aN, aT;"
   ]
  },
  {
   "cell_type": "markdown",
   "id": "183a81d5-6a34-4bb2-8f8a-d9d03c19b990",
   "metadata": {},
   "source": [
    "Available options: <font color='blue'>float</font> and <font color='red'>peg</font>. The variable *indicators* = $\\mathbb{1}\\{\\text{peg}\\}$, $\\mathbb{1}\\{\\text{float}\\}$. Set to *true, false* for <font color='red'>peg</font> ad *false, true* for <font color='blue'>float</font>."
   ]
  },
  {
   "cell_type": "code",
   "execution_count": 13,
   "id": "8ce3f7a4-aeee-48a3-a526-6b16ad663052",
   "metadata": {},
   "outputs": [],
   "source": [
    "indicators = false, true\n",
    "max_iter, toler = 10000, 1e-6\n",
    "\n",
    "# initialize sequences\n",
    "wT_sequence, wN_sequence, marg_sequence = ones(L), ones(L), ones(L)\n",
    "gap_N, gap_T, gap_m, gap_μ = zeros(L), zeros(L), zeros(L), zeros(L)\n",
    "ψ = 0.02/12*exp.(-time_grid/12*1.15)\n",
    "rd_sequence = par.r_d*ones(L) + ψ/2\n",
    "initial_sequences = wT_sequence, wN_sequence, marg_sequence, rd_sequence, gap_N, gap_T, gap_m, gap_μ\n",
    "\n",
    "#alternatively, load pre-computed sequences (uncomment the relevant one)\n",
    "@load \"transition_results/float_rank.jld2\"\n",
    "#@load \"transition_results/peg_rank.jld2\"\n",
    "initial_sequences = res_this.wT_sequence, res_this.wN_sequence, res_this.marg_sequence, res_this.rd_sequence, res_this.gap_N, res_this.gap_T, res_this.gap_m, gap_μ\n",
    "max_T, max_N, max_m, mean_T, mean_N, mean_m, res_this = transition_ra(initial_sequences,ψ,indicators,0.0,par,par_grid,prod_shifters,ss_objects,t_grid,max_iter,toler);"
   ]
  },
  {
   "cell_type": "code",
   "execution_count": 12,
   "id": "d7bfec09-e80c-41e3-8f2c-3da639862be5",
   "metadata": {},
   "outputs": [],
   "source": [
    "# save the results\n",
    "\n",
    "@save \"transition_results/float_rank.jld2\" res_this\n",
    "#@save \"transition_results/peg_rank.jld2\" res_this"
   ]
  }
 ],
 "metadata": {
  "kernelspec": {
   "display_name": "Julia 1.7.3",
   "language": "julia",
   "name": "julia-1.7"
  },
  "language_info": {
   "file_extension": ".jl",
   "mimetype": "application/julia",
   "name": "julia",
   "version": "1.7.3"
  }
 },
 "nbformat": 4,
 "nbformat_minor": 5
}
