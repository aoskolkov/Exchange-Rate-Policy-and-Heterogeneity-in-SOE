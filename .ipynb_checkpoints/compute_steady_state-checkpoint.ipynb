{
 "cells": [
  {
   "cell_type": "code",
   "execution_count": 1,
   "metadata": {},
   "outputs": [],
   "source": [
    "using Compat, Random, Distributions, Plots, LinearAlgebra, Statistics, LaTeXStrings, SparseArrays, CPUTime, JLD2\n",
    "using SpecialFunctions, GSL, SuiteSparse, Distributed, Roots\n",
    "gr(fmt=:png)\n",
    "e = 2.7182818284\n",
    "Random.seed!(1);"
   ]
  },
  {
   "cell_type": "code",
   "execution_count": 2,
   "metadata": {},
   "outputs": [
    {
     "data": {
      "text/plain": [
       "3-element Vector{Int64}:\n",
       " 1\n",
       " 2\n",
       " 3"
      ]
     },
     "execution_count": 2,
     "metadata": {},
     "output_type": "execute_result"
    }
   ],
   "source": [
    "addprocs(2)\n",
    "@everywhere using Compat, Random, Distributions, Plots, LinearAlgebra, Statistics, LaTeXStrings, SparseArrays, CPUTime, JLD2, SpecialFunctions, GSL, SuiteSparse, Distributed\n",
    "@everywhere using SharedArrays, ParallelDataTransfer, Roots, NBInclude\n",
    "@everywhere @nbinclude(\"setup.ipynb\")\n",
    "@everywhere using .setup, .ss_functions\n",
    "@load \"parameters.jld2\"\n",
    "procs()"
   ]
  },
  {
   "cell_type": "markdown",
   "metadata": {},
   "source": [
    "Options for calculating the steady state:\n",
    "\n",
    "* baseline productivity differences: productivity in non-tradables is 0.6 of that in tradables\n",
    "* equal productivities\n",
    "* productivities switched: productivity in tradables is 0.6 of that in non-tradables\n",
    "\n",
    "Choose *productivity_gap* from mutually exclusive \"**baseline**\", \"**equal**\", \"**switched**\" (uncomment the relevant one):"
   ]
  },
  {
   "cell_type": "code",
   "execution_count": 13,
   "metadata": {},
   "outputs": [
    {
     "data": {
      "text/plain": [
       "\"switched\""
      ]
     },
     "execution_count": 13,
     "metadata": {},
     "output_type": "execute_result"
    }
   ],
   "source": [
    "productivity_gap = \"baseline\"\n",
    "#productivity_gap = \"equal\"\n",
    "#productivity_gap = \"switched\""
   ]
  },
  {
   "cell_type": "code",
   "execution_count": 14,
   "metadata": {},
   "outputs": [
    {
     "data": {
      "text/plain": [
       "6-element Vector{Symbol}:\n",
       " :prod_N\n",
       " :prod_T\n",
       " :export_share\n",
       " :NT_to_GDP\n",
       " :foreign_to_gdp\n",
       " :MPC_target"
      ]
     },
     "execution_count": 14,
     "metadata": {},
     "output_type": "execute_result"
    }
   ],
   "source": [
    "# loading parameters\n",
    "if productivity_gap == \"baseline\"\n",
    "    @load \"external_parameters.jld2\"\n",
    "elseif productivity_gap == \"equal\"\n",
    "    @load \"external_parameters_equal.jld2\"\n",
    "elseif productivity_gap == \"switched\"\n",
    "    @load \"external_parameters_switched.jld2\"\n",
    "end"
   ]
  },
  {
   "cell_type": "code",
   "execution_count": 15,
   "metadata": {},
   "outputs": [
    {
     "name": "stdout",
     "output_type": "stream",
     "text": [
      "      From worker 3:\tdistance = 9.88422983671197e-10, 410 iterations\n",
      "      From worker 3:\telapsed CPU time: 7.219 seconds\n",
      "      From worker 2:\tdistance = 9.843921623064503e-10, 413 iterations\n",
      "      From worker 2:\telapsed CPU time: 7.25 seconds\n",
      "  8.300660 seconds (963 allocations: 1.437 MiB)\n",
      "\n",
      "total sales: 0.18727 = 0.15092 (consumption) + 0.03635 (gov. expenditures);\n",
      "sales of tradables: 0.10131; sales of non-tradables: 0.08596; trade balance: 0.00083;\n",
      "sales of imports: 0.03942; sales of domestic tradables: 0.06188; exports: 0.04025;\n",
      "debt: 0.44276; debt to GDP: 19.616%\n",
      "\n",
      "recalibrate ζ, α, and η:\n",
      "new ζ: 0.623, new η: 0.541, new α: 0.611\n",
      "\n"
     ]
    },
    {
     "data": {
      "image/png": "[encoded data removed]"
     },
     "execution_count": 15,
     "metadata": {},
     "output_type": "execute_result"
    }
   ],
   "source": [
    "# initializing a guess for the value function\n",
    "interest_init = map(q->interest(q,par),par_grid.assets)\n",
    "value = log.(interest_init+par_grid.productivity*(1-par.τ_w)^(par.χ2+1)*par.χ1^(-par.χ2)) - par_grid.productivity*χ(((1-par.τ_w)/par.χ1)^par.χ2,par)\n",
    "\n",
    "# computing the steady-state values, distributions, consumption, and labor\n",
    "par_grid_T, par_grid_N = deepcopy(par_grid), deepcopy(par_grid)\n",
    "par_grid_N.productivity, par_grid_N.labor = prod_N*par_grid_N.productivity, prod_N*par_grid_N.labor\n",
    "par_grid_T.productivity, par_grid_T.labor = prod_T*par_grid_T.productivity, prod_T*par_grid_T.labor\n",
    "@time paral = pmap(solve_workers,[value,value],[1-par.τ_w,1-par.τ_w],[par,par],[par_grid_T,par_grid_N])\n",
    "distr_T, value_T, cons_T, c_quarter_T, c_year_T, labor_vec_T, labor_supply_T, dist_T = paral[1]\n",
    "distr_N, value_N, cons_N, c_quarter_N, c_year_N, labor_vec_N, labor_supply_N, dist_N = paral[2]\n",
    "\n",
    "# computing the steady-state values of other variables\n",
    "\n",
    "if productivity_gap != \"baseline\"\n",
    "    par.ζ_N = NT_to_GDP*labor_supply_T/(NT_to_GDP*labor_supply_T + (1-NT_to_GDP)*labor_supply_N)\n",
    "    par.ζ_T = 1 - par.ζ_N\n",
    "end\n",
    "GDP = labor_supply_T * par.ζ_T + labor_supply_N * par.ζ_N\n",
    "assets_to_gdp = par_grid.assets'*(distr_T*par.ζ_T+distr_N*par.ζ_N)/12/GDP\n",
    "loan_arbitrage = min.(par_grid.assets,0)'*(distr_T*par.ζ_T+distr_N*par.ζ_N) * (par.r_d-par.r_l)\n",
    "consumption = cons_T'*distr_T * par.ζ_T + cons_N'*distr_N * par.ζ_N\n",
    "foreign_share = foreign_to_gdp/(foreign_to_gdp+assets_to_gdp)\n",
    "trade_balance = par.r_d*foreign_to_gdp*12*GDP\n",
    "if productivity_gap != \"baseline\"\n",
    "    par.η = 1 - NT_to_GDP/(1-trade_balance/GDP)\n",
    "    par.α = (1-NT_to_GDP-export_share)/(1-trade_balance/GDP)/par.η\n",
    "end\n",
    "q_total = GDP-trade_balance\n",
    "q_F = GDP*export_share-trade_balance\n",
    "q_N = NT_to_GDP*GDP\n",
    "q_T = par.η*q_total\n",
    "q_H = par.α/(1-par.α)*q_F\n",
    "q_E = GDP*export_share\n",
    "debt = assets_to_gdp/(1-foreign_share)*12*GDP\n",
    "debt_to_gdp = debt/GDP/12\n",
    "interest_payments = par.r_d*debt\n",
    "G = par.τ_w*GDP + loan_arbitrage - interest_payments\n",
    "print(\"\\ntotal sales: \",round(q_total,digits=5),\" = \",round(consumption,digits=5),\" (consumption) + \",round(G,digits=5),\" (gov. expenditures);\\n\")\n",
    "print(\"sales of tradables: \",round(q_T,digits=5),\"; sales of non-tradables: \",round(q_N,digits=5),\"; trade balance: \",round(par.r_d*foreign_to_gdp*12*GDP,digits=5),\";\\n\")\n",
    "print(\"sales of imports: \",round(q_F,digits=5),\"; sales of domestic tradables: \",round(q_H,digits=5),\"; exports: \",round(q_E,digits=5),\";\\n\")\n",
    "print(\"debt: \",round(debt,digits=5),\"; debt to GDP: \",round(100*debt/GDP/12,digits=3),\"%\\n\\n\")\n",
    "\n",
    "if productivity_gap == \"baseline\"\n",
    "    print(\"verify that ζ, α, and η are set correctly:\\n\")\n",
    "    print(\"error on ζ: \",par.ζ_N - NT_to_GDP*labor_supply_T/(NT_to_GDP*labor_supply_T + (1-NT_to_GDP)*labor_supply_N),\", \")\n",
    "    print(\"error on η: \",par.η - (1 - NT_to_GDP/(1-trade_balance/GDP)),\", \")\n",
    "    print(\"error on α: \",par.α - (1-NT_to_GDP-export_share)/(1-trade_balance/GDP)/par.η,\"\\n\\n\")\n",
    "end\n",
    "\n",
    "if productivity_gap != \"baseline\"\n",
    "    print(\"recalibrate ζ, α, and η:\\n\")\n",
    "    print(\"new ζ: \",round(par.ζ_T,digits=3),\", \")\n",
    "    print(\"new η: \",round(par.η,digits=3),\", \")\n",
    "    print(\"new α: \",round(par.α,digits=3),\"\\n\\n\")\n",
    "end\n",
    "\n",
    "plot_both_distr = plot(par_grid.q_grid,sum(reshape(distr_T,par_grid.N,par_grid.K),dims=2),color=:red,linewidth=3,label=L\"g^T(a)\",xlim=[par_grid.a_bar-0.12,1.5],xlabel=L\"a\")\n",
    "plot!(par_grid.q_grid,sum(reshape(distr_N,par_grid.N,par_grid.K),dims=2),color=:blue,linewidth=3,label=L\"g^N(a)\",xlim=[par_grid.a_bar-0.12,1.5])\n",
    "plot(plot_both_distr,legend=:topright,legendfontsize=12,title=L\"\\mathrm{wealth\\ distributions}\",size=(400,400))"
   ]
  },
  {
   "cell_type": "code",
   "execution_count": 18,
   "metadata": {},
   "outputs": [],
   "source": [
    "if productivity_gap == \"baseline\"\n",
    "    @save \"steady_state_output.jld2\" par par_grid q_N q_F q_H q_E q_T q_total G consumption debt loan_arbitrage distr_T value_T cons_T labor_supply_T distr_N value_N cons_N labor_supply_N c_quarter_T c_quarter_N\n",
    "elseif productivity_gap == \"equal\"\n",
    "    @save \"steady_state_output_equal.jld2\" par par_grid q_N q_F q_H q_E q_T q_total G consumption debt loan_arbitrage distr_T value_T cons_T labor_supply_T distr_N value_N cons_N labor_supply_N c_quarter_T c_quarter_N\n",
    "elseif productivity_gap == \"switched\"\n",
    "    @save \"steady_state_output_switched.jld2\" par par_grid q_N q_F q_H q_E q_T q_total G consumption debt loan_arbitrage distr_T value_T cons_T labor_supply_T distr_N value_N cons_N labor_supply_N c_quarter_T c_quarter_N\n",
    "end"
   ]
  }
 ],
 "metadata": {
  "kernelspec": {
   "display_name": "Julia 1.7.3",
   "language": "julia",
   "name": "julia-1.7"
  },
  "language_info": {
   "file_extension": ".jl",
   "mimetype": "application/julia",
   "name": "julia",
   "version": "1.7.3"
  }
 },
 "nbformat": 4,
 "nbformat_minor": 4
}
