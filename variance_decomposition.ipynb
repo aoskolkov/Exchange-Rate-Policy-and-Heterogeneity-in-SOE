{
 "cells": [
  {
   "cell_type": "code",
   "execution_count": 1,
   "id": "ff303fae-ce2b-41c5-8a4d-2793ee527b9c",
   "metadata": {},
   "outputs": [],
   "source": [
    "using Compat, Random, Distributions, Plots, LinearAlgebra, Statistics, LaTeXStrings, SparseArrays, CPUTime, JLD2\n",
    "using SpecialFunctions, GSL, SuiteSparse, Distributed, Roots, NBInclude\n",
    "gr(fmt=:png)\n",
    "e = 2.7182818284\n",
    "Random.seed!(1);"
   ]
  },
  {
   "cell_type": "code",
   "execution_count": 2,
   "id": "bd6d8537-88d1-44e0-9b48-32daefff9068",
   "metadata": {},
   "outputs": [
    {
     "data": {
      "text/plain": [
       "3-element Vector{Int64}:\n",
       " 1\n",
       " 2\n",
       " 3"
      ]
     },
     "execution_count": 2,
     "metadata": {},
     "output_type": "execute_result"
    }
   ],
   "source": [
    "addprocs(2)\n",
    "@everywhere using Compat, Random, Distributions, Plots, LinearAlgebra, Statistics, LaTeXStrings, SparseArrays, CPUTime, JLD2, SpecialFunctions, GSL, SuiteSparse, Distributed\n",
    "@everywhere using SharedArrays, ParallelDataTransfer, Roots, NBInclude\n",
    "@everywhere @nbinclude(\"setup.ipynb\")\n",
    "@everywhere using .setup, .functions\n",
    "procs()"
   ]
  },
  {
   "cell_type": "code",
   "execution_count": 3,
   "id": "a0a98387-96a2-4cd2-bcd6-50ab64ad7e29",
   "metadata": {},
   "outputs": [],
   "source": [
    "# set the time grid\n",
    "T = 600\n",
    "dt = T/1200\n",
    "T_bar = 24\n",
    "time_grid = collect(0:dt:T)\n",
    "L = length(time_grid)\n",
    "t_grid = dt, L;"
   ]
  },
  {
   "cell_type": "code",
   "execution_count": 4,
   "id": "efe4b204-670d-4e03-9b2a-cb7d12bae69f",
   "metadata": {},
   "outputs": [
    {
     "name": "stdout",
     "output_type": "stream",
     "text": [
      " 64.394193 seconds (21.23 M allocations: 1.159 GiB, 0.78% gc time, 11.65% compilation time)\n"
     ]
    }
   ],
   "source": [
    "# compute steady-state statistics\n",
    "@load \"external_parameters.jld2\"\n",
    "@load \"steady_state_output.jld2\"\n",
    "par_grid_N, par_grid_T = deepcopy(par_grid), deepcopy(par_grid)\n",
    "par_grid_N.labor = par_grid.labor * prod_N\n",
    "par_grid_N.productivity = par_grid.productivity * prod_N\n",
    "par_grid_T.labor = par_grid.labor * prod_T\n",
    "par_grid_T.productivity = par_grid.productivity * prod_T\n",
    "\n",
    "@time paral = pmap(q_response,[value_N,value_T],[distr_N,distr_T],(1-par.τ_w)*[ones(L),ones(L)],[par.r_d*ones(L),par.r_d*ones(L)],[zeros(L),zeros(L)],[true,true],[par,par],[par_grid_N,par_grid_T],[t_grid,t_grid])\n",
    " \n",
    "Cq_N, Lq_N, v_N = paral[1]\n",
    "Cq_T, Lq_T, v_T = paral[2]\n",
    "\n",
    "ss_objects = Cq_T, Cq_N, distr_T, distr_N;"
   ]
  },
  {
   "cell_type": "code",
   "execution_count": 5,
   "id": "c7e39d22-8ec2-4da1-b6e7-5124ca6062b4",
   "metadata": {},
   "outputs": [
    {
     "name": "stdout",
     "output_type": "stream",
     "text": [
      " 29.296296 seconds (1.77 k allocations: 898.953 KiB, 0.01% compilation time)\n",
      " 30.167071 seconds (1.36 k allocations: 874.203 KiB)\n",
      "\u001b[34mfloat: \u001b[0mchange in variance = 0.1%: dispersion T = 1.17%, dispersion N = 0.12%, wealth bias T = -295.73%, wealth bias N = -64.01%, between = 458.45%\n",
      "\u001b[91mpeg: \u001b[0mchange in variance = 0.84%: dispersion T = 0.05%, dispersion N = 0.2%, wealth bias T = -4.27%, wealth bias N = 34.9%, between = 69.12%"
     ]
    }
   ],
   "source": [
    "# compute the response for float\n",
    "@load \"transition_results/float.jld2\"\n",
    "res_float = res_this\n",
    "\n",
    "@time paral = pmap(q_response,[value_N,value_T],[distr_N,distr_T],(1-par.τ_w)*[res_float.wN_sequence,res_float.wT_sequence],[res_float.rd_sequence,res_float.rd_sequence],[zeros(L),zeros(L)],[true,true],[par,par],[par_grid_N,par_grid_T],[t_grid,t_grid])\n",
    "Call_N_float, Lall_N_float, Wall_N_float = paral[1]\n",
    "Call_T_float, Lall_T_float, Wall_T_float = paral[2]\n",
    "\n",
    "# compute the response for peg\n",
    "@load \"transition_results/peg.jld2\"\n",
    "res_peg = res_this\n",
    "\n",
    "@time paral = pmap(q_response,[value_N,value_T],[distr_N,distr_T],(1-par.τ_w)*[res_peg.wN_sequence,res_peg.wT_sequence],[res_peg.rd_sequence,res_peg.rd_sequence],[zeros(L),zeros(L)],[true,true],[par,par],[par_grid_N,par_grid_T],[t_grid,t_grid])\n",
    "Call_N_peg, Lall_N_peg, Wall_N_peg = paral[1]\n",
    "Call_T_peg, Lall_T_peg, Wall_T_peg = paral[2]\n",
    "\n",
    "# print out the decomposition results\n",
    "print(\"\\e[34mfloat: \\e[0m\")\n",
    "print_decomposition(Call_T_float,Call_N_float,par,par_grid,ss_objects)\n",
    "print(\"\\n\\e[91mpeg: \\e[0m\")\n",
    "print_decomposition(Call_T_peg,Call_N_peg,par,par_grid,ss_objects);"
   ]
  }
 ],
 "metadata": {
  "kernelspec": {
   "display_name": "Julia 1.7.3",
   "language": "julia",
   "name": "julia-1.7"
  },
  "language_info": {
   "file_extension": ".jl",
   "mimetype": "application/julia",
   "name": "julia",
   "version": "1.7.3"
  }
 },
 "nbformat": 4,
 "nbformat_minor": 5
}
