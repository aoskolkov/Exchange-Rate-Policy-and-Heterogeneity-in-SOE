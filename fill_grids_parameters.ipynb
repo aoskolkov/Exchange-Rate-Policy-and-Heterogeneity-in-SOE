{
 "cells": [
  {
   "cell_type": "code",
   "execution_count": 1,
   "id": "e6f9bfcd-9c5e-484d-bc9e-e7f21c57c19c",
   "metadata": {},
   "outputs": [],
   "source": [
    "using Compat, Random, Distributions, Plots, LinearAlgebra, Statistics, LaTeXStrings, SparseArrays, CPUTime, JLD2\n",
    "using SpecialFunctions, GSL, SuiteSparse, Distributed, Roots, NBInclude\n",
    "gr(fmt=:png)\n",
    "e = 2.7182818284\n",
    "Random.seed!(1);"
   ]
  },
  {
   "cell_type": "code",
   "execution_count": 2,
   "id": "08991f27-776d-4dd7-ac3f-6fac3b70868d",
   "metadata": {},
   "outputs": [],
   "source": [
    "@nbinclude(\"setup.ipynb\")\n",
    "using .setup"
   ]
  },
  {
   "cell_type": "code",
   "execution_count": 3,
   "id": "08c247da-3fec-4f2c-8089-2826ae9b24e3",
   "metadata": {},
   "outputs": [
    {
     "data": {
      "text/plain": [
       "fill_productivity (generic function with 1 method)"
      ]
     },
     "execution_count": 3,
     "metadata": {},
     "output_type": "execute_result"
    }
   ],
   "source": [
    "function fill_matrix(Λ,par_grid)\n",
    "    K = par_grid.K\n",
    "    matr = zeros(K,K)\n",
    "    matr[CartesianIndex.(2:K,2:K)] = Λ\n",
    "    matr[CartesianIndex.(1:K-1,2:K)] = ones(K-1) - Λ\n",
    "    matr[:,1] = ones(K) - sum(matr[:,2:end],dims=2)\n",
    "    return matr\n",
    "end\n",
    "\n",
    "function fill_productivity(par_grid,l_mean,l_var,λ_bar,Δλ,display)\n",
    "    Λ, par_grid.labor = ones(par_grid.K), ones(par_grid.K)\n",
    "    Λ[end] = λ_bar\n",
    "    l_this = []\n",
    "    for j in 0.05:0.1:0.95\n",
    "        append!(l_this,find_zero(x->erf(x/sqrt(l_var))/2+0.5-j,0.0))\n",
    "    end\n",
    "    par_grid.labor = exp.(l_this)\n",
    "    par_grid.labor = par_grid.labor/mean(par_grid.labor)*l_mean\n",
    "    par_grid.productivity = kron(par_grid.labor,ones(par_grid.N))\n",
    "    for i in 1:par_grid.K-1\n",
    "            Λ[end-i] = max(0,λ_bar - Δλ*i)\n",
    "    end\n",
    "    Λ = Λ[2:end]\n",
    "\n",
    "    par_grid.trans_matrix = fill_matrix(Λ,par_grid) - Matrix(I,par_grid.K,par_grid.K)\n",
    "    eig = eigen(Matrix(Diagonal(ones(par_grid.K))-par_grid.trans_matrix'))\n",
    "    number = findfirst(z->(Real(z*conj(z))<1.0001)&&(Real(z*conj(z))>0.9999),eig.values)\n",
    "    income_distr = Real.(eig.vectors[:,number])\n",
    "    income_distr = income_distr/sum(income_distr)\n",
    "    if display\n",
    "        print(\"probability to switch decile: \",round(100*income_distr'*(ones(par_grid.K)-exp.(diag(par_grid.trans_matrix)*12)),digits=2),\"% per year, \",\n",
    "            round(100*income_distr'*(ones(par_grid.K)-exp.(diag(par_grid.trans_matrix)*6)),digits=2),\"% per semester, \",\n",
    "            round(100*income_distr'*(ones(par_grid.K)-exp.(diag(par_grid.trans_matrix)*3)),digits=2),\"% per quarter, \",\n",
    "            round(100*income_distr'*(ones(par_grid.K)-exp.(diag(par_grid.trans_matrix))),digits=2),\"% per month\")\n",
    "    end\n",
    "    plot_prod = plot(par_grid.labor,income_distr,color=:blue,label=\"distribution\",seriestype=:scatter,markersize=10,legend=:false,tickfontsize=15,ylim=[0.04,0.13])\n",
    "    return par_grid, plot_prod\n",
    "end"
   ]
  },
  {
   "cell_type": "code",
   "execution_count": 4,
   "id": "2cd8fe35-b7e1-453b-946d-6e7ad35ff371",
   "metadata": {},
   "outputs": [
    {
     "name": "stdout",
     "output_type": "stream",
     "text": [
      "probability to switch decile: 76.62% per year, 57.97% per semester, 37.71% per quarter, 15.37% per month"
     ]
    }
   ],
   "source": [
    "ρ_y, σ_p, σ_t = 0.963, sqrt(0.021), sqrt(0.196) # from Hong (2023)\n",
    "l_var = σ_p^2/(1-ρ_y^2) + σ_t^2 \n",
    "l_mean = 0.09472044076948055 # mean log productivity (set in calibration)\n",
    "λ_bar = 0.982509946100006 # probability of staying at the top (set in calibration)\n",
    "Δλ = 0.034996393288546944 # step in staying probabilities (set in calibration)\n",
    "K = 10 # number of productivity levels (choice)\n",
    "labor = [] # productivity grid (to be filled below)\n",
    "productivity = [] # stacked productivity grid (to be filled below)\n",
    "trans_matrix = [] # transition matrix (to be filled below)\n",
    "N = 1501 # number of asset levels (choice)\n",
    "da = 0.01 # asset grid step (choice)\n",
    "a_bar = -0.25 # hard borrowing constraint (choice)\n",
    "q_grid = collect(a_bar:da:a_bar + da*(N-1)) # asset grid\n",
    "assets = kron(ones(K),q_grid) # stacked asset grid\n",
    "\n",
    "par_grid = grid_parameters(l_mean,l_var,Δλ,λ_bar,K,labor,productivity,trans_matrix,N,da,a_bar,q_grid,assets) # initialize the grid structure\n",
    "\n",
    "par_grid, plot_prod = fill_productivity(par_grid,l_mean,l_var,λ_bar,Δλ,true); # fill the labor grid and transition matrix"
   ]
  },
  {
   "cell_type": "code",
   "execution_count": 5,
   "id": "edd023ed-9366-43ec-9220-22847b9d14ab",
   "metadata": {},
   "outputs": [],
   "source": [
    "χ1 = 0.8 # normalization to generate l=1 when u'(c)=1, w=1, and τ=0.2\n",
    "χ2 = 0.5 # elasticity of labor supply from Kaplan Moll Violante (2018)\n",
    "ρ = 0.011611134781250509 # discount rate (set in calibration)\n",
    "σ = 1.0745164406470842 # IES (set in calibration)\n",
    "τ_w = 0.2 # tax rate (set in calibration)\n",
    "    \n",
    "ζ_N = 0.5397226696266482 # share of workers in non-tradables (set in calibration)\n",
    "ζ_T = 1 - ζ_N # share of workers in tradables (set in calibration)\n",
    "    \n",
    "r_d = 0.004166666666666667 # interest rate on deposits, 5% annually (choice)\n",
    "r_l = 0.018394789900282607 # interest rate on loans (set in calibration)\n",
    "    \n",
    "κ = 0.0067/ρ # slope of Phillips curve from Alves (2020)\n",
    "θ = 1.5 # elasticity of substitution between tradables and non-tradables (choice)\n",
    "η = 0.5409765755720075 # weight on tradables (set in calibration)\n",
    "α = 0.6108521207850077 # weight on domestic goods in tradables (set in calibration)\n",
    "θ_g = 3.0 # elasticity of substitution between domestic and foreign tradables (choice)\n",
    "θ_e = 3.0 # elasticity of export demand (choice)\n",
    "\n",
    "par = model_parameters(χ1,χ2,ρ,σ,τ_w,ζ_N,ζ_T,r_d,r_l,κ,θ,η,α,θ_g,θ_e); # fill model parameters"
   ]
  },
  {
   "cell_type": "code",
   "execution_count": 6,
   "id": "8c178a72-5412-4cf3-8bac-f5188b468f80",
   "metadata": {},
   "outputs": [],
   "source": [
    "prod_N = 0.6 # productivity in non-tradables relative to tradables\n",
    "prod_T = 1.0 # productivity in tradables (could be changed to other numbers if prod_N changes)\n",
    "export_share = 0.214 # export share\n",
    "NT_to_GDP = 0.457 # share of non-tradables in GDP\n",
    "foreign_to_gdp = 0.08816214251 # foreign ownership of government debt\n",
    "MPC_target = [0.28, 0.183, 0.188, 0.213, 0.237, 0.219, 0.239, 0.183, 0.197, 0.106] # from Hong (2023)\n",
    "\n",
    "@save \"parameters.jld2\" par par_grid\n",
    "@save \"external_parameters.jld2\" prod_N prod_T export_share NT_to_GDP foreign_to_gdp MPC_target"
   ]
  },
  {
   "cell_type": "markdown",
   "id": "10a24510-d9e1-4071-ac9b-578e213ec6e8",
   "metadata": {},
   "source": [
    "Parameters for alternative calibrations:\n",
    "\n",
    "* equal productivities across sectors: *prod_N=prod_T=0.8*\n",
    "* productivity levels switched: *prod_N=1.0*, *prod_T=0.6*"
   ]
  },
  {
   "cell_type": "code",
   "execution_count": 7,
   "id": "2c37f423-d71c-4159-85d4-25ee63e02406",
   "metadata": {},
   "outputs": [],
   "source": [
    "prod_N = 0.8 # productivity in non-tradables relative to tradables\n",
    "prod_T = 0.8 # productivity in tradables (could be changed to other numbers if prod_N changes)\n",
    "export_share = 0.214 # export share\n",
    "NT_to_GDP = 0.457 # share of non-tradables in GDP\n",
    "foreign_to_gdp = 0.08816214251 # foreign ownership of government debt\n",
    "MPC_target = [0.28, 0.183, 0.188, 0.213, 0.237, 0.219, 0.239, 0.183, 0.197, 0.106] # from Hong (2023)\n",
    "\n",
    "@save \"external_parameters_equal.jld2\" prod_N prod_T export_share NT_to_GDP foreign_to_gdp MPC_target"
   ]
  },
  {
   "cell_type": "code",
   "execution_count": 8,
   "id": "76be1b44-f55d-47c1-9c5e-3cc0eaa4bca8",
   "metadata": {},
   "outputs": [],
   "source": [
    "prod_N = 1.0 # productivity in non-tradables relative to tradables\n",
    "prod_T = 0.6 # productivity in tradables (could be changed to other numbers if prod_N changes)\n",
    "export_share = 0.214 # export share\n",
    "NT_to_GDP = 0.457 # share of non-tradables in GDP\n",
    "foreign_to_gdp = 0.08816214251 # foreign ownership of government debt\n",
    "MPC_target = [0.28, 0.183, 0.188, 0.213, 0.237, 0.219, 0.239, 0.183, 0.197, 0.106] # from Hong (2023)\n",
    "\n",
    "@save \"external_parameters_switched.jld2\" prod_N prod_T export_share NT_to_GDP foreign_to_gdp MPC_target"
   ]
  }
 ],
 "metadata": {
  "kernelspec": {
   "display_name": "Julia 1.7.3",
   "language": "julia",
   "name": "julia-1.7"
  },
  "language_info": {
   "file_extension": ".jl",
   "mimetype": "application/julia",
   "name": "julia",
   "version": "1.7.3"
  }
 },
 "nbformat": 4,
 "nbformat_minor": 5
}
