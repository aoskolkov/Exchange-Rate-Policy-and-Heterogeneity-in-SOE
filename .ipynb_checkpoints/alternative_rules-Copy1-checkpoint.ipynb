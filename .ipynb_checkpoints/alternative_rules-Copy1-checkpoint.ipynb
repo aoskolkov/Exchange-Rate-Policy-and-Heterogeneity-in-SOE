{
 "cells": [
  {
   "cell_type": "code",
   "execution_count": 1,
   "id": "ff303fae-ce2b-41c5-8a4d-2793ee527b9c",
   "metadata": {},
   "outputs": [],
   "source": [
    "using Compat, Random, Distributions, Plots, LinearAlgebra, Statistics, LaTeXStrings, SparseArrays, CPUTime, JLD2\n",
    "using SpecialFunctions, GSL, SuiteSparse, Distributed, Roots, NBInclude\n",
    "gr(fmt=:png)\n",
    "e = 2.7182818284\n",
    "Random.seed!(1);"
   ]
  },
  {
   "cell_type": "code",
   "execution_count": 2,
   "id": "bd6d8537-88d1-44e0-9b48-32daefff9068",
   "metadata": {},
   "outputs": [
    {
     "data": {
      "text/plain": [
       "3-element Vector{Int64}:\n",
       " 1\n",
       " 2\n",
       " 3"
      ]
     },
     "execution_count": 2,
     "metadata": {},
     "output_type": "execute_result"
    }
   ],
   "source": [
    "addprocs(2)\n",
    "@everywhere using Compat, Random, Distributions, Plots, LinearAlgebra, Statistics, LaTeXStrings, SparseArrays, CPUTime, JLD2, SpecialFunctions, GSL, SuiteSparse, Distributed\n",
    "@everywhere using SharedArrays, ParallelDataTransfer, Roots, NBInclude\n",
    "@everywhere @nbinclude(\"setup.ipynb\")\n",
    "@everywhere using .setup, .functions\n",
    "procs()"
   ]
  },
  {
   "cell_type": "code",
   "execution_count": 3,
   "id": "a0a98387-96a2-4cd2-bcd6-50ab64ad7e29",
   "metadata": {},
   "outputs": [],
   "source": [
    "# set the time grid\n",
    "T = 600\n",
    "dt = T/1200\n",
    "T_bar = 24\n",
    "time_grid = collect(0:dt:T)\n",
    "L = length(time_grid)\n",
    "t_grid = dt, L;"
   ]
  },
  {
   "cell_type": "code",
   "execution_count": 4,
   "id": "efe4b204-670d-4e03-9b2a-cb7d12bae69f",
   "metadata": {},
   "outputs": [
    {
     "name": "stdout",
     "output_type": "stream",
     "text": [
      " 45.482126 seconds (21.23 M allocations: 1.158 GiB, 0.96% gc time, 11.97% compilation time)\n"
     ]
    }
   ],
   "source": [
    "# compute steady-state statistics\n",
    "@load \"steady_state_output.jld2\"\n",
    "@load \"external_parameters.jld2\"\n",
    "par_grid_N, par_grid_T = deepcopy(par_grid), deepcopy(par_grid)\n",
    "par_grid_N.labor = par_grid.labor * prod_N\n",
    "par_grid_N.productivity = par_grid.productivity * prod_N\n",
    "par_grid_T.labor = par_grid.labor * prod_T\n",
    "par_grid_T.productivity = par_grid.productivity * prod_T\n",
    "aN = distr_N'*par_grid.assets\n",
    "aT = distr_T'*par_grid.assets\n",
    "a = par.ζ_T*aT + par.ζ_N*aN\n",
    "\n",
    "@time paral = pmap(q_response,[value_N,value_T],[distr_N,distr_T],(1-par.τ_w)*[ones(L),ones(L)],[par.r_d*ones(L),par.r_d*ones(L)],[zeros(L),zeros(L)],[true,true],[par,par],[par_grid_N,par_grid_T],[t_grid,t_grid])\n",
    " \n",
    "Cq_N, Lq_N, v_N = paral[1]\n",
    "Cq_T, Lq_T, v_T = paral[2]\n",
    "\n",
    "ss_objects = Cq_T, Cq_N, distr_T, distr_N;"
   ]
  },
  {
   "cell_type": "code",
   "execution_count": 5,
   "id": "c7e39d22-8ec2-4da1-b6e7-5124ca6062b4",
   "metadata": {},
   "outputs": [
    {
     "name": "stdout",
     "output_type": "stream",
     "text": [
      "peg_low_elast  23.250096 seconds (25.98 k allocations: 2.349 MiB, 0.21% compilation time)\n",
      "change in variance = 1.59%: dispersion T = 0.05%, dispersion N = 0.36%, wealth bias T = 8.13%, wealth bias N = 36.33%, between = 55.12%"
     ]
    },
    {
     "ename": "LoadError",
     "evalue": "UndefVarError: Q not defined",
     "output_type": "error",
     "traceback": [
      "UndefVarError: Q not defined",
      "",
      "Stacktrace:",
      " [1] top-level scope",
      "   @ In[5]:24"
     ]
    }
   ],
   "source": [
    "Δvars, biases_T, biases_N, P_arr, E_arr, r_arr, μ_arr, cN_arr, cT_arr, wN_arr, wT_arr = [], [], [], [], [], [], [], [], [], [], []\n",
    "\n",
    "ress = [\"peg_low_elast\", \"low_075\", \"low_050\", \"low_025\", \"float_low_elast\", \"low_025_neg\", \"low_050_neg\", \"low_075_neg\", \n",
    "    \"peg\", \"mix_075\", \"mix_050\", \"mix_025\", \"float\", \"mix_025_neg\", \"mix_050_neg\", \"mix_075_neg\", \n",
    "    \"peg_high_elast\", \"high_075\", \"high_050\", \"high_025\", \"float_high_elast\", \"high_025_neg\", \"high_050_neg\", \"high_075_neg\"]\n",
    "\n",
    "for i in 1:length(ress)\n",
    "    @load \"transition_results/\"*ress[i]*\".jld2\" res_this\n",
    "    \n",
    "    print(ress[i],\" \")\n",
    "\n",
    "    @time paral = pmap(q_response,[value_N,value_T],[distr_N,distr_T],(1-par.τ_w)*[res_this.wN_sequence,res_this.wT_sequence],[res_this.rd_sequence,res_this.rd_sequence],[zeros(L),zeros(L)],[true,true],[par,par],[par_grid_N,par_grid_T],[t_grid,t_grid])\n",
    "    Call_N, Lall_N, Wall_N = paral[1]\n",
    "    Call_T, Lall_T, Wall_T = paral[2]\n",
    "    \n",
    "    var_Q_total, var_total, change_var, disp_T, disp_N, bias_T, bias_N, betw = print_decomposition(Call_T,Call_N,par,par_grid,ss_objects)\n",
    "    append!(Δvars,change_var)\n",
    "    append!(biases_T,bias_T)\n",
    "    append!(biases_N,bias_N)\n",
    "    \n",
    "    P_seq = exp.(cumsum(vcat(0,res_this.π_sequence[1:end-1]) * dt))\n",
    "    E_seq = P_seq.*res_this.pF_sequence\n",
    "    \n",
    "    append!(P_arr,100*(Q*P_seq)[1]-100)\n",
    "    append!(E_arr,100*(Q*E_seq)[1]-100)\n",
    "    append!(r_arr,100*12*((Q*res_this.rd_sequence)[1]-par.r_d))\n",
    "    append!(μ_arr,100*12*(Q*res_this.μ_sequence)[1])\n",
    "    append!(cN_arr,100*(Q*res_this.cN_sequence)[1]/res_this.cN_sequence[end]-100)\n",
    "    append!(cT_arr,100*(Q*res_this.cT_sequence)[1]/res_this.cT_sequence[end]-100)\n",
    "    append!(wN_arr,100*(Q*res_this.wN_sequence)[1]-100)\n",
    "    append!(wT_arr,100*(Q*res_this.wT_sequence)[1]-100)\n",
    "    \n",
    "    print(\"\\nP = \",round(P_arr[end],digits=2),\" E = \",round(E_arr[end],digits=2),\" r = \",round(r_arr[end],digits=2),\" μ = \",round(μ_arr[end],digits=2))\n",
    "    print(\", cN = \",round(cN_arr[end],digits=2),\" cT = \",round(cT_arr[end],digits=2),\" wN = \",round(wN_arr[end],digits=2),\" wT = \",round(wT_arr[end],digits=2),\"\\n\")\n",
    "end"
   ]
  },
  {
   "cell_type": "code",
   "execution_count": null,
   "id": "15a1da6d-1ed7-45eb-acfb-f573a84b9b1e",
   "metadata": {},
   "outputs": [],
   "source": [
    "ϕϵ_arr = [-Inf, 0.75, 0.5, 0.25, 0, -0.25, -0.5, -0.75]\n",
    "ϕϵ_arr = repeat(ϕϵ_arr,3)\n",
    "ϕπ_arr = 1.5*(ones(length(ϕϵ_arr))-ϕϵ_arr)\n",
    "price_level_arr, inf_arr, psi_arr, logE_arr, π_arr, initial_depr, eventual_depr = [], [], [], [], [], [], []\n",
    "\n",
    "for i in 1:length(ress)\n",
    "    @load \"transition_results/\"*ress[i]*\".jld2\" res_this\n",
    "    \n",
    "    P_seq = exp.(cumsum(vcat(0,res_this.π_sequence[1:end-1]) * dt))\n",
    "    E_seq = P_seq.*res_this.pF_sequence\n",
    "    append!(initial_depr,100*(Q*E_seq)[1]-100)\n",
    "    append!(eventual_depr,100*(Q*E_seq)[end]-100)\n",
    "    inf_vec = sum(res_this.π_sequence * dt) * ones(L) - log.(P_seq)\n",
    "    psi_vec = sum(ψ * dt) * ones(L) - cumsum(vcat(0,ψ[1:end-1]) * dt)\n",
    "    append!(price_level_arr,(Q*log.(P_seq))[1])\n",
    "    append!(psi_arr,(Q*psi_vec)[1])\n",
    "    append!(inf_arr,(ϕπ_arr[i]-(1-ϕϵ_arr[i]))*(Q*inf_vec)[1])\n",
    "    append!(logE_arr,(Q*log.(E_seq))[1])\n",
    "    append!(π_arr,100*12*(Q*res_this.π_sequence)[1])\n",
    "end"
   ]
  },
  {
   "cell_type": "code",
   "execution_count": null,
   "id": "99deb494-0da9-4666-a09b-bb1a7f4ff2fd",
   "metadata": {},
   "outputs": [],
   "source": [
    "degrees_of_fear = reverse([L\"0.75\",L\"0.5\",L\"0.25\",L\"0\",L\"-0.25\",L\"-0.5\",L\"-0.75\"])\n",
    "i_arr = π_arr + r_arr\n",
    "Edot_arr = π_arr + μ_arr\n",
    "mean_total = sum(par.ζ_T*distr_T.*log.(Cq_T) + par.ζ_N*distr_N.*log.(Cq_N))\n",
    "var_total = sum(par.ζ_T*distr_T.* (log.(Cq_T)-mean_total*ones(par_grid.K*par_grid.N)).^2 + par.ζ_N*distr_N.* (log.(Cq_N)-mean_total*ones(par_grid.K*par_grid.N)).^2)\n",
    "Δgap = Δvars - biases_T - biases_N\n",
    "\n",
    "plot_rate = plot(1:7,reverse(r_arr[10:16]),xticks=(1:7,degrees_of_fear),lw=3,color=:black,label=L\"r\",title=L\"\\mathrm{(a)\\ real\\ interest\\ rate}\",ylim=[-0.75,3.5],legend=:topleft)\n",
    "plot!(1:7,100*12*(Q*ψ)[1]*ones(7),ls=:dot,lw=2,color=:black,label=L\"\\psi\")\n",
    "plot_E = scatter(1:7,reverse(π_arr[10:16]),xticks=(1:7,degrees_of_fear),markershape=:diamond,ms=5,ma=0.8,color=:grey,label=L\"\\pi\",legend=:topleft)\n",
    "plot!(1:7,100*reverse(logE_arr[10:16]),xticks=(1:7,degrees_of_fear),color=:black,label=L\"\\mathcal{E}\",lw=3,title=L\"\\mathrm{(b)\\ exchange\\ rate\\ and\\ inflation}\")\n",
    "plot_depr = bar(1:7,reverse(initial_depr[10:16]),xticks=(1:7,degrees_of_fear),color=:blue,alpha=0.6,label=L\"\\mathrm{Q1}\",legend=:topleft,bar_width=0.5)\n",
    "bar!(1:7,reverse(eventual_depr[10:16]),xticks=(1:7,degrees_of_fear),color=:firebrick,alpha=0.8,label=L\"\\mathrm{subsequent}\",title=L\"\\mathrm{(c)\\ nominal\\ depreciation}\",bar_width=0.5)\n",
    "bar!(1:7,reverse(initial_depr[10:16]),xticks=(1:7,degrees_of_fear),color=:white,alpha=1.0,label=\"\",bar_width=0.5)\n",
    "bar!(1:7,reverse(initial_depr[10:16]),xticks=(1:7,degrees_of_fear),color=:blue,alpha=0.6,label=\"\",bar_width=0.5)\n",
    "plot_w = scatter(1:7,reverse(wT_arr[10:16]),xticks=(1:7,degrees_of_fear),color=:sienna,markershape=:rect,ms=4,ma=0.75,label=L\"\\mathrm{T}\",title=L\"\\mathrm{(d)\\ wage\\ response}\",ylim=[-0.5,1.5])\n",
    "scatter!(1:7,reverse(wN_arr[10:16]),xticks=(1:7,degrees_of_fear),color=:beige,ms=5,ma=0.75,markershape=:diamond,label=L\"\\mathrm{N}\",legend=:topleft)\n",
    "plot_C = scatter(1:7,reverse(cT_arr[10:16]),xticks=(1:7,degrees_of_fear),color=:sienna,markershape=:rect,ms=4,ma=0.75,label=L\"\\mathrm{T}\",title=L\"\\mathrm{(e)\\ consumption\\ response}\",ylim=[-0.5,1.0])\n",
    "scatter!(1:7,reverse(cN_arr[10:16]),xticks=(1:7,degrees_of_fear),color=:beige,ms=5,ma=0.75,markershape=:diamond,label=L\"\\mathrm{N}\",legend=:topleft)\n",
    "plot_var = bar(1:7,reverse(100*(biases_T[10:16]+min.(0,biases_N[10:16]))/var_total),xticks=(1:7,degrees_of_fear),color=:sienna,alpha=0.75,label=L\"\\mathrm{T}\",title=L\"\\mathrm{(f)\\ consumption\\ dispersion}\",bar_width=0.5)\n",
    "bar!(1:7,100*reverse(biases_N[10:16]/var_total),xticks=(1:7,degrees_of_fear),color=:beige,alpha=1.0,label=L\"\\mathrm{N}\",legend=:topleft,ylim=[-1.3,1.0],bar_width=0.5)\n",
    "bar!(1:7,100*reverse(Δgap[10:16]/var_total),xticks=(1:7,degrees_of_fear),color=:grey,alpha=0.75,label=L\"\\mathrm{change\\ in\\ gap}\",legend=:bottomleft,ylim=[-1.3,1.0],bar_width=0.5)\n",
    "plot!(1:7,100*reverse(Δvars[10:16]/var_total),xticks=(1:7,degrees_of_fear),color=:black,lw=3,label=L\"\\mathrm{change\\ in\\ dispersion}\")\n",
    "l = @layout[a a a; a a a]\n",
    "plot(plot_rate,plot_E,plot_depr,plot_w,plot_C,plot_var,layout=l,size=(900,600),titlefontsize=12,legendfontsize=10,tickfontsize=9,bottom_margin=0.05Plots.cm,xlabel=L\"\\phi_\\epsilon\",xlim=[0.75,7.25])"
   ]
  },
  {
   "cell_type": "code",
   "execution_count": 6,
   "id": "59e40d37-f968-4519-abbe-3b7e4113bc59",
   "metadata": {},
   "outputs": [
    {
     "data": {
      "text/plain": [
       "\"response_decomposition.png\""
      ]
     },
     "execution_count": 6,
     "metadata": {},
     "output_type": "execute_result"
    }
   ],
   "source": [
    "png(\"alternative_rules.png\")"
   ]
  }
 ],
 "metadata": {
  "kernelspec": {
   "display_name": "Julia 1.7.3",
   "language": "julia",
   "name": "julia-1.7"
  },
  "language_info": {
   "file_extension": ".jl",
   "mimetype": "application/julia",
   "name": "julia",
   "version": "1.7.3"
  }
 },
 "nbformat": 4,
 "nbformat_minor": 5
}
