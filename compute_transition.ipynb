{
 "cells": [
  {
   "cell_type": "code",
   "execution_count": 1,
   "metadata": {},
   "outputs": [],
   "source": [
    "using Compat, Random, Distributions, Plots, LinearAlgebra, Statistics, LaTeXStrings, SparseArrays, CPUTime, JLD2\n",
    "using SpecialFunctions, GSL, SuiteSparse, Distributed, Roots, NBInclude\n",
    "gr(fmt=:png)\n",
    "e = 2.7182818284\n",
    "Random.seed!(1);"
   ]
  },
  {
   "cell_type": "code",
   "execution_count": 2,
   "metadata": {},
   "outputs": [
    {
     "data": {
      "text/plain": [
       "3-element Vector{Int64}:\n",
       " 1\n",
       " 2\n",
       " 3"
      ]
     },
     "execution_count": 2,
     "metadata": {},
     "output_type": "execute_result"
    }
   ],
   "source": [
    "addprocs(2)\n",
    "@everywhere using Compat, Random, Distributions, Plots, LinearAlgebra, Statistics, LaTeXStrings, SparseArrays, CPUTime, JLD2, SpecialFunctions, GSL, SuiteSparse, Distributed\n",
    "@everywhere using SharedArrays, ParallelDataTransfer, Roots, NBInclude\n",
    "@everywhere @nbinclude(\"setup.ipynb\")\n",
    "@everywhere using .setup, .functions\n",
    "procs()"
   ]
  },
  {
   "cell_type": "code",
   "execution_count": 3,
   "metadata": {},
   "outputs": [],
   "source": [
    "# set the time grid\n",
    "T = 600\n",
    "T_bar = 20\n",
    "dt = T/1200\n",
    "time_grid = collect(0:dt:T)\n",
    "L = length(time_grid)\n",
    "t_grid = dt, L;"
   ]
  },
  {
   "cell_type": "markdown",
   "metadata": {},
   "source": [
    "Options for productivity parameters (important to load the relevant steady state):\n",
    "\n",
    "* baseline productivity differences: productivity in non-tradables is 0.6 of that in tradables\n",
    "* equal productivities\n",
    "* productivities switched: productivity in tradables is 0.6 of that in non-tradables\n",
    "\n",
    "Choose productivity_gap from mutually exclusive \"**baseline**\", \"**equal**\", \"**switched**\" (uncomment the relevant one):"
   ]
  },
  {
   "cell_type": "code",
   "execution_count": 4,
   "metadata": {},
   "outputs": [],
   "source": [
    "productivity_gap = \"baseline\"\n",
    "#productivity_gap = \"equal\"\n",
    "#productivity_gap = \"switched\"\n",
    "\n",
    "# loading parameters\n",
    "if productivity_gap == \"baseline\"\n",
    "    @load \"external_parameters.jld2\"\n",
    "    @load \"steady_state_output.jld2\"\n",
    "elseif productivity_gap == \"equal\"\n",
    "    @load \"external_parameters_equal.jld2\"\n",
    "    @load \"steady_state_output_equal.jld2\"\n",
    "elseif productivity_gap == \"switched\"\n",
    "    @load \"external_parameters_switched.jld2\"\n",
    "    @load \"steady_state_output_switched.jld2\"\n",
    "end\n",
    "\n",
    "prod_shifters = prod_N, prod_T\n",
    "ss_objects = q_N, q_F, q_H, q_E, q_T, q_total, G, consumption, debt, loan_arbitrage, distr_T, value_T, cons_T, labor_supply_T, distr_N, value_N, cons_N, labor_supply_N;"
   ]
  },
  {
   "cell_type": "markdown",
   "metadata": {},
   "source": [
    "Options for dynamics include\n",
    "\n",
    "* setting $\\{\\theta,\\theta_g,\\theta_e\\}$ (equal to $\\{1.5,3.0,3.0\\}$ by default)\n",
    "* setting $\\kappa$ (equal to $0.577$ by default)\n",
    "* choosing exchange rate regime from mutually exclusive {*flexible*,*peg*,*ner_targeting*}\n",
    "    - if *ner_targeting* is chosen, $ϕ_ϵ$ has to be set (0 corresponds to pure float)\n",
    "* choosing fiscal regime from mutually exclusive {*taxes_adjust*,*gov_adjust*}\n",
    "    - if *taxes_adjust* is chosen, the tax allocation mechanism must be chosen from {*flat*,*prop*}\n",
    "    \n",
    "Pre-computed sequences in the folder \"transition_results\":\n",
    "\n",
    "| description | file name | monetary indicator | $\\phi_\\epsilon$ | $\\kappa$ | $\\{\\theta,\\theta_g,\\theta_e\\}$ | fiscal regime | tax distribution | productivities |\n",
    "|---|---|---|---|---|---|---|---|---|\n",
    "|baseline <font color='blue'>float</font>|\"transition_results/float.jld2\"|*ner_targeting*|0|0.577|{1.5,3.0,3.0}|*gov_adjust*| | baseline |\n",
    "|baseline <font color='red'>peg</font>|\"transition_results/peg.jld2\"|*peg*| |0.577|{1.5,3.0,3.0}|*gov_adjust*| | baseline |\n",
    "|<font color='blue'>float</font> with equal productivity in N and T|\"transition_results/float_equal.jld2\"|*ner_targeting*|0|0.577|{1.5,3.0,3.0}|*gov_adjust*| | equal |\n",
    "|<font color='red'>peg</font> with equal productivity in N and T|\"transition_results/peg_equal.jld2\"|*peg*| |0.577|{1.5,3.0,3.0}|*gov_adjust*| | equal |\n",
    "|<font color='blue'>float</font> with productivity in N higher than in T|\"transition_results/float_switched.jld2\"|*ner_targeting*|0|0.577|{1.5,3.0,3.0}|*gov_adjust*| | switched |\n",
    "|<font color='red'>peg</font> with productivity in N higher than in T|\"transition_results/peg_switched.jld2\"|*peg*| |0.577|{1.5,3.0,3.0}|*gov_adjust*| | switched |\n",
    "|<font color='blue'>float</font> with proportional tax adjustment|\"transition_results/float_prop.jld2\"|*ner_targeting*|0|0.577|{1.5,3.0,3.0}|*tax_adjust*| *prop* | baseline |\n",
    "|<font color='red'>peg</font> with proportional tax adjustment|\"transition_results/peg_prop.jld2\"|*peg*| |0.577|{1.5,3.0,3.0}|*tax_adjust*| *prop* | baseline |\n",
    "|<font color='blue'>float</font> with flat tax adjustment|\"transition_results/float_flat.jld2\"|*ner_targeting*|0|0.577|{1.5,3.0,3.0}|*tax_adjust*| *flat* | baseline |\n",
    "|<font color='red'>peg</font> with flat tax adjustment|\"transition_results/peg_flat.jld2\"|*peg*| |0.577|{1.5,3.0,3.0}|*tax_adjust*| *flat* | baseline |\n",
    "|<font color='blue'>float</font> with a higher slope of the Phillips curve|\"transition_results/float_high_phil.jld2\"|*ner_targeting*|0|0.577$\\cdot$1.25|{1.5,3.0,3.0}|*gov_adjust*| | baseline |\n",
    "|<font color='red'>peg</font> with a higher slope of the Phillips curve|\"transition_results/peg_high_phil.jld2\"|*peg*| |0.577$\\cdot$1.25|{1.5,3.0,3.0}|*gov_adjust*| | baseline |\n",
    "|<font color='blue'>float</font> with a lower slope of the Phillips curve|\"transition_results/float_low_phil.jld2\"|*ner_targeting*|0|0.577$\\cdot$0.75|{1.5,3.0,3.0}|*gov_adjust*| | baseline |\n",
    "|<font color='red'>peg</font> with a lower slope of the Phillips curve|\"transition_results/peg_low_phil.jld2\"|*peg*| |0.577$\\cdot$0.75|{1.5,3.0,3.0}|*gov_adjust*| | baseline |\n",
    "|<font color='purple'>mixed regime</font> with $\\phi_\\epsilon=0.75$|\"transition_results/mix_075.jld2\"|*ner_targeting*|0.75|0.577|{1.5,3.0,3.0}|*gov_adjust*| | baseline |\n",
    "|<font color='purple'>mixed regime</font> with $\\phi_\\epsilon=0.50$|\"transition_results/mix_050.jld2\"|*ner_targeting*|0.5|0.577|{1.5,3.0,3.0}|*gov_adjust*| | baseline |\n",
    "|<font color='purple'>mixed regime</font> with $\\phi_\\epsilon=0.25$|\"transition_results/mix_025.jld2\"|*ner_targeting*|0.25|0.577|{1.5,3.0,3.0}|*gov_adjust*| | baseline |\n",
    "|<font color='purple'>mixed regime</font> with $\\phi_\\epsilon=-0.25$|\"transition_results/mix_025_neg.jld2\"|*ner_targeting*|-0.25|0.577|{1.5,3.0,3.0}|*gov_adjust*| | baseline |\n",
    "|<font color='purple'>mixed regime</font> with $\\phi_\\epsilon=-0.50$|\"transition_results/mix_050_neg.jld2\"|*ner_targeting*|-0.5|0.577|{1.5,3.0,3.0}|*gov_adjust*| | baseline |\n",
    "|<font color='purple'>mixed regime</font> with $\\phi_\\epsilon=-0.75$|\"transition_results/mix_075_neg.jld2\"|*ner_targeting*|-0.75|0.577|{1.5,3.0,3.0}|*gov_adjust*| | baseline |\n",
    "|<font color='blue'>float</font> with high elasticities|\"transition_results/float_high_elast.jld2\"|*ner_targeting*|0|0.577|{1.5,3.0,3.0}$\\cdot$2|*gov_adjust*| | baseline |\n",
    "|<font color='red'>peg</font> with high elasticities|\"transition_results/peg_high_elast.jld2\"|*peg*| |0.577|{1.5,3.0,3.0}$\\cdot$2|*gov_adjust*| | baseline |\n",
    "|<font color='purple'>mixed regime</font> with $\\phi_\\epsilon=0.75$ and high elasticities|\"transition_results/high_075.jld2\"|*ner_targeting*|0.75|0.577|{1.5,3.0,3.0}$\\cdot$2|*gov_adjust*| | baseline |\n",
    "|<font color='purple'>mixed regime</font> with $\\phi_\\epsilon=0.50$ and high elasticities|\"transition_results/high_050.jld2\"|*ner_targeting*|0.5|0.577|{1.5,3.0,3.0}$\\cdot$2|*gov_adjust*| | baseline |\n",
    "|<font color='purple'>mixed regime</font> with $\\phi_\\epsilon=0.25$ and high elasticities|\"transition_results/high_025.jld2\"|*ner_targeting*|0.25|0.577|{1.5,3.0,3.0}$\\cdot$2|*gov_adjust*| | baseline |\n",
    "|<font color='purple'>mixed regime</font> with $\\phi_\\epsilon=-0.25$ and high elasticities|\"transition_results/high_025_neg.jld2\"|*ner_targeting*|-0.25|0.577|{1.5,3.0,3.0}$\\cdot$2|*gov_adjust*| | baseline |\n",
    "|<font color='purple'>mixed regime</font> with $\\phi_\\epsilon=-0.50$ and high elasticities|\"transition_results/high_050_neg.jld2\"|*ner_targeting*|-0.5|0.577|{1.5,3.0,3.0}$\\cdot$2|*gov_adjust*| | baseline |\n",
    "|<font color='purple'>mixed regime</font> with $\\phi_\\epsilon=-0.75$ and high elasticities|\"transition_results/high_075_neg.jld2\"|*ner_targeting*|-0.75|0.577|{1.5,3.0,3.0}$\\cdot$2|*gov_adjust*| | baseline |\n",
    "|<font color='blue'>float</font> with low elasticities|\"transition_results/float_low_elast.jld2\"|*ner_targeting*|0|0.577|{1.5,3.0,3.0}$\\cdot$0.5|*gov_adjust*| | baseline |\n",
    "|<font color='red'>peg</font> with low elasticities|\"transition_results/peg_low_elast.jld2\"|*peg*| |0.577|{1.5,3.0,3.0}$\\cdot$0.5|*gov_adjust*| | baseline |\n",
    "|<font color='purple'>mixed regime</font> with $\\phi_\\epsilon=0.75$ and low elasticities|\"transition_results/low_075.jld2\"|*ner_targeting*|0.75|0.577|{1.5,3.0,3.0}$\\cdot$0.5|*gov_adjust*| | baseline |\n",
    "|<font color='purple'>mixed regime</font> with $\\phi_\\epsilon=0.50$ and low elasticities|\"transition_results/low_050.jld2\"|*ner_targeting*|0.5|0.577|{1.5,3.0,3.0}$\\cdot$0.5|*gov_adjust*| | baseline |\n",
    "|<font color='purple'>mixed regime</font> with $\\phi_\\epsilon=0.25$ and low elasticities|\"transition_results/low_025.jld2\"|*ner_targeting*|0.25|0.577|{1.5,3.0,3.0}$\\cdot$0.5|*gov_adjust*| | baseline |\n",
    "|<font color='purple'>mixed regime</font> with $\\phi_\\epsilon=-0.25$ and low elasticities|\"transition_results/low_025_neg.jld2\"|*ner_targeting*|-0.25|0.577|{1.5,3.0,3.0}$\\cdot$0.5|*gov_adjust*| | baseline |\n",
    "|<font color='purple'>mixed regime</font> with $\\phi_\\epsilon=-0.50$ and low elasticities|\"transition_results/low_050_neg.jld2\"|*ner_targeting*|-0.5|0.577|{1.5,3.0,3.0}$\\cdot$0.5|*gov_adjust*| | baseline |\n",
    "|<font color='purple'>mixed regime</font> with $\\phi_\\epsilon=-0.75$ and low elasticities|\"transition_results/low_075_neg.jld2\"|*ner_targeting*|-0.75|0.577|{1.5,3.0,3.0}$\\cdot$0.5|*gov_adjust*| | baseline |\n",
    "\n"
   ]
  },
  {
   "cell_type": "code",
   "execution_count": 93,
   "metadata": {},
   "outputs": [],
   "source": [
    "par.θ = 1.5\n",
    "par.θ_g = 3.0\n",
    "par.θ_e = 3.0\n",
    "par.κ = 0.0067/par.ρ\n",
    "flexible, peg, ner_targeting = false, false, true\n",
    "ϕ_ϵ = 0.0\n",
    "taxes_adjust, gov_adjust = false, true\n",
    "flat, prop = false, true\n",
    "\n",
    "indicators = flexible, peg, ner_targeting, taxes_adjust, gov_adjust, flat, prop\n",
    "ψ = 0.02/12*exp.(-time_grid/12*1.15)\n",
    "\n",
    "# initialize sequences\n",
    "wT_sequence, wN_sequence, marg_sequence = ones(L), ones(L), ones(L)\n",
    "excise_sequence, gap_N, gap_T, gap_m, gap_μ = zeros(L), zeros(L), zeros(L), zeros(L), zeros(L)\n",
    "rd_sequence = par.r_d*ones(L) + ψ/2\n",
    "initial_sequences = wT_sequence, wN_sequence, marg_sequence, rd_sequence, excise_sequence, gap_N, gap_T, gap_m, gap_μ\n",
    "\n",
    "# alternatively, load pre-computed sequences (comment the following lines to run the transition routine from flat guesses)\n",
    "@load \"transition_results/float.jld2\"\n",
    "initial_sequences = res_this.wT_sequence, res_this.wN_sequence, res_this.marg_sequence, res_this.rd_sequence, res_this.excise_sequence, res_this.gap_N, res_this.gap_T, res_this.gap_m, zeros(L);"
   ]
  },
  {
   "cell_type": "code",
   "execution_count": 96,
   "metadata": {},
   "outputs": [
    {
     "name": "stdout",
     "output_type": "stream",
     "text": [
      "iteration 1\n",
      " 21.445221 seconds (1.17 k allocations: 550.605 MiB, 0.16% gc time)\n",
      "workers iterated;\n",
      "\u001b[91mtradables:\u001b[0m mean gap = 1.2584214305674286e-7, max gap = 9.543849033288865e-7, gap at 0 = 9.543849033288865e-7\n",
      "\u001b[34mnon-tradables:\u001b[0m mean gap = 1.177431250935692e-7, max gap = 8.706700167504522e-7, gap at 0 = -8.706700167504522e-7\n",
      "\u001b[47mmarginal cost:\u001b[0m mean gap = 3.907093754829421e-10, max gap = 5.468077324266574e-9, gap at 0 = -5.468077324266574e-9\n"
     ]
    }
   ],
   "source": [
    "# run the routine\n",
    "max_iter = 1200\n",
    "toler = 1e-6\n",
    "max_T, max_N, max_m, mean_T, mean_N, mean_m, res_this = transition(initial_sequences,ψ,indicators,ϕ_ϵ,par,par_grid,prod_shifters,ss_objects,t_grid,max_iter,toler);"
   ]
  },
  {
   "cell_type": "code",
   "execution_count": 95,
   "metadata": {},
   "outputs": [],
   "source": [
    "# save results\n",
    "@save \"transition_results/float.jld2\" res_this"
   ]
  }
 ],
 "metadata": {
  "kernelspec": {
   "display_name": "Julia 1.7.3",
   "language": "julia",
   "name": "julia-1.7"
  },
  "language_info": {
   "file_extension": ".jl",
   "mimetype": "application/julia",
   "name": "julia",
   "version": "1.7.3"
  },
  "toc-showtags": true
 },
 "nbformat": 4,
 "nbformat_minor": 4
}
